{
 "cells": [
  {
   "cell_type": "markdown",
   "metadata": {},
   "source": [
    "# TECH 2 mandatory assignment - Part B\n",
    "\n",
    "Write your solution for Part B in this notebook."
   ]
  },
  {
   "cell_type": "code",
   "execution_count": 1,
   "metadata": {},
   "outputs": [],
   "source": [
    "#Importing data from CSV file\n",
    "import csv\n",
    "file = open ('data.csv', 'r')\n",
    "reader = csv.reader(file)\n",
    "\n",
    "#Storing data in three seperate list \n",
    "column1 = [] #100 numbers\n",
    "column2 = [] #1000 numbers\n",
    "column3 = [] # 10000 numbers\n",
    "\n",
    "for row in reader:\n",
    "    # Ensuring each row contains 3 values\n",
    "    if len(row) == 3:\n",
    "        try:\n",
    "            # Appending teh values to individual rows\n",
    "            column1.append(float(row[0]))\n",
    "            column2.append(float(row[1]))\n",
    "            column3.append(float(row[2]))\n",
    "        except ValueError:\n",
    "            # Skipping the row if conversion to float fails\n",
    "            continue"
   ]
  },
  {
   "cell_type": "code",
   "execution_count": 2,
   "metadata": {},
   "outputs": [
    {
     "name": "stdout",
     "output_type": "stream",
     "text": [
      "The standard deviation using for loops is equal to 1.4142135623730951 \n",
      "The standard deviation using built in functions is equal to 1.4142135623730951 \n",
      "The standard deviation using NumPy is equal to 1.4142135623730951 \n"
     ]
    }
   ],
   "source": [
    "#Importing functions from part AVC\n",
    "from partA import std_loops, std_builtin, std_numpy"
   ]
  },
  {
   "cell_type": "code",
   "execution_count": 6,
   "metadata": {},
   "outputs": [
    {
     "name": "stdout",
     "output_type": "stream",
     "text": [
      "17.2 μs ± 3.62 μs per loop (mean ± std. dev. of 7 runs, 10,000 loops each)\n",
      "13.2 μs ± 128 ns per loop (mean ± std. dev. of 7 runs, 100,000 loops each)\n",
      "13.3 μs ± 257 ns per loop (mean ± std. dev. of 7 runs, 100,000 loops each)\n"
     ]
    }
   ],
   "source": [
    "# Checking the version 1\n",
    "%timeit std_loops(column1)\n",
    "%timeit std_loops(column2)\n",
    "%timeit std_loops(column3)"
   ]
  },
  {
   "cell_type": "code",
   "execution_count": 7,
   "metadata": {},
   "outputs": [
    {
     "name": "stdout",
     "output_type": "stream",
     "text": [
      "13.1 μs ± 290 ns per loop (mean ± std. dev. of 7 runs, 100,000 loops each)\n",
      "12.9 μs ± 110 ns per loop (mean ± std. dev. of 7 runs, 100,000 loops each)\n",
      "13 μs ± 117 ns per loop (mean ± std. dev. of 7 runs, 100,000 loops each)\n"
     ]
    }
   ],
   "source": [
    "# Checking the version 2\n",
    "%timeit std_builtin(column1)\n",
    "%timeit std_builtin(column2)\n",
    "%timeit std_builtin(column3)"
   ]
  },
  {
   "cell_type": "code",
   "execution_count": 5,
   "metadata": {},
   "outputs": [
    {
     "name": "stdout",
     "output_type": "stream",
     "text": [
      "17.7 μs ± 169 ns per loop (mean ± std. dev. of 7 runs, 100,000 loops each)\n",
      "18.6 μs ± 1.14 μs per loop (mean ± std. dev. of 7 runs, 100,000 loops each)\n",
      "27.3 μs ± 4.73 μs per loop (mean ± std. dev. of 7 runs, 100,000 loops each)\n"
     ]
    }
   ],
   "source": [
    "# Checking the version 3\n",
    "%timeit std_numpy(column1)\n",
    "%timeit std_numpy(column2)\n",
    "%timeit std_numpy(column3)"
   ]
  },
  {
   "cell_type": "markdown",
   "metadata": {},
   "source": [
    "As it is shown above, the fastest approach would be loop version, then built-in function and the slowest is for numpy version. Therefore is more efficient to use loop."
   ]
  }
 ],
 "metadata": {
  "kernelspec": {
   "display_name": "base",
   "language": "python",
   "name": "python3"
  },
  "language_info": {
   "codemirror_mode": {
    "name": "ipython",
    "version": 3
   },
   "file_extension": ".py",
   "mimetype": "text/x-python",
   "name": "python",
   "nbconvert_exporter": "python",
   "pygments_lexer": "ipython3",
   "version": "3.12.4"
  }
 },
 "nbformat": 4,
 "nbformat_minor": 2
}
